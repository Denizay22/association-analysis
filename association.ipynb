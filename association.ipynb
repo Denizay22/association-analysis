{
 "cells": [
  {
   "cell_type": "code",
   "execution_count": null,
   "metadata": {},
   "outputs": [],
   "source": [
    "import pandas as pd\n",
    "import matplotlib.pyplot as plt\n",
    "from mlxtend.preprocessing import TransactionEncoder\n",
    "from mlxtend.frequent_patterns import apriori\n",
    "from mlxtend.frequent_patterns import association_rules"
   ]
  },
  {
   "cell_type": "code",
   "execution_count": null,
   "metadata": {},
   "outputs": [],
   "source": [
    "dp_no_table = pd.read_csv('dp_code_match_table.csv', dtype={\"department_code\": \"string\", \"department_no\": \"string\"})\n",
    "dp_no_table"
   ]
  },
  {
   "cell_type": "code",
   "execution_count": null,
   "metadata": {},
   "outputs": [],
   "source": [
    "data = pd.read_csv('data_cleaned.csv', dtype={\"std_no\" : \"string\",\"department_no\": \"string\",\"class_code\": \"string\",\"class_name\": \"string\",\"period\": \"string\"})\n",
    "data"
   ]
  },
  {
   "cell_type": "code",
   "execution_count": null,
   "metadata": {},
   "outputs": [],
   "source": [
    "def get_department_records(dep_code):\n",
    "    \"\"\"verilen bölüm kısaltmasının ders kayıtlarını içeren tablo döndürür\"\"\"\n",
    "    return data[data.department_no == dp_no_table[dp_no_table.department_code == dep_code].reset_index().at[0, 'department_no']].groupby('std_no').class_name.apply(list).reset_index()\n",
    "def get_class_code_records_as_list(df):\n",
    "    \"\"\"verilen tablonun class_code sütunundaki değeleri liste olarak döndürür\"\"\"\n",
    "    return df.class_name.to_list()"
   ]
  },
  {
   "cell_type": "code",
   "execution_count": null,
   "metadata": {},
   "outputs": [],
   "source": [
    "blm_records = get_department_records('BLM')\n",
    "blm_records"
   ]
  },
  {
   "cell_type": "code",
   "execution_count": null,
   "metadata": {},
   "outputs": [],
   "source": [
    "blm_records_class_codes_list = get_class_code_records_as_list(blm_records)\n",
    "te = TransactionEncoder()\n",
    "blm_records_oneshot = te.fit(blm_records_class_codes_list).transform(blm_records_class_codes_list)\n",
    "blm_records_oneshot"
   ]
  },
  {
   "cell_type": "code",
   "execution_count": null,
   "metadata": {},
   "outputs": [],
   "source": [
    "blm_records_oneshot_df = pd.DataFrame(blm_records_oneshot, columns=te.columns_)\n",
    "blm_records_oneshot_df"
   ]
  },
  {
   "cell_type": "code",
   "execution_count": null,
   "metadata": {},
   "outputs": [],
   "source": [
    "supports = {}\n",
    "for col in blm_records_oneshot_df.columns:\n",
    "    supports[col] = blm_records_oneshot_df[col].value_counts()[1] / blm_records_oneshot_df.shape[0]\n",
    "\n",
    "fig = plt.figure(figsize=(15,5))\n",
    "ax = fig.add_axes([0,0,1,1])\n",
    "ax.bar(x=list(supports.keys()), height=list(supports.values()))\n",
    "plt.show()"
   ]
  },
  {
   "cell_type": "code",
   "execution_count": null,
   "metadata": {},
   "outputs": [],
   "source": [
    "freq_itemsets = apriori(blm_records_oneshot_df, min_support=0.01, use_colnames=True)\n",
    "freq_itemsets['length'] = freq_itemsets.itemsets.apply(lambda x: len(x))\n",
    "freq_itemsets"
   ]
  },
  {
   "cell_type": "code",
   "execution_count": null,
   "metadata": {},
   "outputs": [],
   "source": [
    "assoc_rules = association_rules(freq_itemsets, metric=\"lift\", min_threshold=1)\n",
    "#assoc_rules = assoc_rules[(assoc_rules['confidence'] > 0.3) & (assoc_rules['antecedent support'] > 0.05)]\n",
    "#assoc_rules = assoc_rules[(assoc_rules['confidence'] > 0.8)]\n",
    "assoc_rules = assoc_rules.sort_values('confidence', ascending=False)\n",
    "assoc_rules = assoc_rules.reset_index().drop('index', axis=1)\n",
    "assoc_rules[\"antecedents\"] = assoc_rules[\"antecedents\"].apply(lambda x: ', '.join(list(x))).astype(\"unicode\")\n",
    "assoc_rules[\"consequents\"] = assoc_rules[\"consequents\"].apply(lambda x: ', '.join(list(x))).astype(\"unicode\")\n",
    "assoc_rules = assoc_rules[assoc_rules[\"consequents\"].str.contains(',') == False]\n",
    "assoc_rules"
   ]
  },
  {
   "cell_type": "code",
   "execution_count": null,
   "metadata": {},
   "outputs": [],
   "source": [
    "##gelen kural sayısına göre dinamik olarak bazı değerler değişecek\n",
    "##hedef 2 ila 10 kural arası\n",
    "assoc_rules[assoc_rules['antecedents'] == 'Yapay Zeka']"
   ]
  },
  {
   "cell_type": "code",
   "execution_count": null,
   "metadata": {},
   "outputs": [],
   "source": [
    "def create_rules(df, antecedents):\n",
    "    min_conf = 0.1\n",
    "    delta = min_conf / 4\n",
    "    rules = df[(df['antecedents'] == antecedents) & (df['confidence'] > min_conf)]\n",
    "    ##satır sayısı 3'den azsa confidence'i azalt\n",
    "    while rules.shape[0] < 3 or rules.shape[0] > 10:\n",
    "        if rules.shape[0] < 3:\n",
    "            min_conf -= delta\n",
    "            rules = df[(df['antecedents'] == antecedents) & (df['confidence'] > min_conf)]\n",
    "        \n",
    "        if rules.shape[0] > 10:\n",
    "            min_conf += delta\n",
    "            rules = df[(df['antecedents'] == antecedents) & (df['confidence'] > min_conf)]\n",
    "    return rules"
   ]
  },
  {
   "cell_type": "code",
   "execution_count": null,
   "metadata": {},
   "outputs": [],
   "source": [
    "create_rules(assoc_rules, 'Yapay Zeka')"
   ]
  },
  {
   "cell_type": "code",
   "execution_count": null,
   "metadata": {},
   "outputs": [],
   "source": []
  }
 ],
 "metadata": {
  "kernelspec": {
   "display_name": "Python 3",
   "language": "python",
   "name": "python3"
  },
  "language_info": {
   "codemirror_mode": {
    "name": "ipython",
    "version": 3
   },
   "file_extension": ".py",
   "mimetype": "text/x-python",
   "name": "python",
   "nbconvert_exporter": "python",
   "pygments_lexer": "ipython3",
   "version": "3.11.0"
  },
  "orig_nbformat": 4,
  "vscode": {
   "interpreter": {
    "hash": "2a4c62013609cc4aadb1467b173cc674826a25c71ee0de6a25d9dd51b71c17be"
   }
  }
 },
 "nbformat": 4,
 "nbformat_minor": 2
}
